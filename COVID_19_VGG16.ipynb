{
  "nbformat": 4,
  "nbformat_minor": 0,
  "metadata": {
    "colab": {
      "name": "COVID-19-VGG16",
      "provenance": []
    },
    "kernelspec": {
      "name": "python3",
      "display_name": "Python 3"
    },
    "accelerator": "GPU"
  },
  "cells": [
    {
      "cell_type": "code",
      "metadata": {
        "id": "cXFOFtI238td",
        "colab": {
          "base_uri": "https://localhost:8080/",
          "height": 34
        },
        "outputId": "255a7f81-637f-41eb-8bab-ed891f30769d"
      },
      "source": [
        "import matplotlib\n",
        "matplotlib.use(\"Agg\")\n",
        "from keras.preprocessing.image import ImageDataGenerator\n",
        "from keras.applications import VGG16\n",
        "from keras.applications import ResNet152V2\n",
        "from keras.layers.core import Dropout\n",
        "from keras.layers.core import Flatten\n",
        "from keras.layers.core import Dense\n",
        "from keras.layers import Input\n",
        "from keras.models import Model\n",
        "from keras.optimizers import SGD\n",
        "from sklearn.metrics import classification_report\n",
        "from imutils import paths\n",
        "import matplotlib.pyplot as plt\n",
        "import numpy as np\n",
        "import pickle\n",
        "import os"
      ],
      "execution_count": null,
      "outputs": [
        {
          "output_type": "stream",
          "text": [
            "Using TensorFlow backend.\n"
          ],
          "name": "stderr"
        }
      ]
    },
    {
      "cell_type": "code",
      "metadata": {
        "id": "eNt-sxTL4wWx"
      },
      "source": [
        "def plot_training(H, N):\n",
        "\t# construct a plot that plots and saves the training history\n",
        "\tplt.style.use(\"ggplot\")\n",
        "\tplt.figure()\n",
        "\tplt.plot(np.arange(0, N), H.history[\"loss\"], label=\"train_loss\")\n",
        "\tplt.plot(np.arange(0, N), H.history[\"val_loss\"], label=\"val_loss\")\n",
        "\tplt.plot(np.arange(0, N), H.history[\"accuracy\"], label=\"train_acc\")\n",
        "\tplt.plot(np.arange(0, N), H.history[\"val_accuracy\"], label=\"val_acc\")\n",
        "\tplt.title(\"Training Loss and Accuracy\")\n",
        "\tplt.xlabel(\"Epoch #\")\n",
        "\tplt.ylabel(\"Loss/Accuracy\")\n",
        "\tplt.legend(loc=\"lower left\")\n",
        "\t#plt.savefig(plotPath)"
      ],
      "execution_count": null,
      "outputs": []
    },
    {
      "cell_type": "code",
      "metadata": {
        "id": "YO-k6hTO5_m5"
      },
      "source": [
        "trainPath = '/content/drive/My Drive/COVID-19/data/train'\n",
        "testPath = '/content/drive/My Drive/COVID-19/data/test'\n",
        "\n",
        "totalTrain = len(list(paths.list_images(trainPath)))\n",
        "totalTest = len(list(paths.list_images(testPath)))"
      ],
      "execution_count": null,
      "outputs": []
    },
    {
      "cell_type": "code",
      "metadata": {
        "id": "uAbxmCnVVj7Q",
        "colab": {
          "base_uri": "https://localhost:8080/",
          "height": 52
        },
        "outputId": "484f1397-6c69-446c-bb7d-3382456f3869"
      },
      "source": [
        "print(totalTrain)\n",
        "print(totalTest)"
      ],
      "execution_count": null,
      "outputs": [
        {
          "output_type": "stream",
          "text": [
            "255\n",
            "64\n"
          ],
          "name": "stdout"
        }
      ]
    },
    {
      "cell_type": "code",
      "metadata": {
        "id": "HTzR6kWk6ktB"
      },
      "source": [
        "trainAug = ImageDataGenerator(\n",
        "\tzoom_range=0.15,\n",
        "\twidth_shift_range=0.2,\n",
        "\theight_shift_range=0.2,\n",
        "\tshear_range=0.15,\n",
        "\thorizontal_flip=True,\n",
        "\tfill_mode=\"nearest\")\n",
        "\n",
        "testAug = ImageDataGenerator()"
      ],
      "execution_count": null,
      "outputs": []
    },
    {
      "cell_type": "code",
      "metadata": {
        "id": "GxX4KDQL6kwJ",
        "colab": {
          "base_uri": "https://localhost:8080/",
          "height": 52
        },
        "outputId": "e7928032-b078-4ad4-cfb8-c470002693e2"
      },
      "source": [
        "BATCH_SIZE = 32\n",
        "trainGen = trainAug.flow_from_directory(\n",
        "\ttrainPath,\n",
        "\tclass_mode=\"binary\",\n",
        "\ttarget_size=(224, 224),\n",
        "\tcolor_mode=\"rgb\",\n",
        "\tshuffle=True,\n",
        "\tbatch_size=BATCH_SIZE)\n",
        "\n",
        "testGen = testAug.flow_from_directory(\n",
        "\ttestPath,\n",
        "\tclass_mode=\"binary\",\n",
        "\ttarget_size=(224, 224),\n",
        "\tcolor_mode=\"rgb\",\n",
        "\tshuffle=False,\n",
        "\tbatch_size=BATCH_SIZE)"
      ],
      "execution_count": null,
      "outputs": [
        {
          "output_type": "stream",
          "text": [
            "Found 255 images belonging to 2 classes.\n",
            "Found 64 images belonging to 2 classes.\n"
          ],
          "name": "stdout"
        }
      ]
    },
    {
      "cell_type": "code",
      "metadata": {
        "id": "SdSMeDIm6kyu"
      },
      "source": [
        "baseModel = VGG16(weights=\"imagenet\", include_top=False,\n",
        "input_tensor=Input(shape=(224, 224, 3)))\n",
        "\n",
        "\n",
        "headModel = baseModel.output\n",
        "headModel = Flatten(name=\"flatten\")(headModel)\n",
        "headModel = Dense(512, activation=\"relu\")(headModel)\n",
        "headModel = Dropout(0.5)(headModel)\n",
        "headModel = Dense(2, activation=\"softmax\")(headModel)\n",
        "\n",
        "\n",
        "model = Model(inputs=baseModel.input, outputs=headModel)"
      ],
      "execution_count": null,
      "outputs": []
    },
    {
      "cell_type": "code",
      "metadata": {
        "id": "s5_nEdna6k3r"
      },
      "source": [
        "for layer in baseModel.layers:\n",
        "\tlayer.trainable = False"
      ],
      "execution_count": null,
      "outputs": []
    },
    {
      "cell_type": "code",
      "metadata": {
        "id": "NyUGkzUP6k7I"
      },
      "source": [
        "opt = SGD(lr=1e-4, momentum=0.9)\n",
        "model.compile(loss=\"binary_crossentropy\", optimizer=opt,\n",
        "\tmetrics=[\"accuracy\"])"
      ],
      "execution_count": null,
      "outputs": []
    },
    {
      "cell_type": "code",
      "metadata": {
        "id": "xAERCf5K6k99",
        "colab": {
          "base_uri": "https://localhost:8080/",
          "height": 1000
        },
        "outputId": "f1331eb7-68a2-46e3-fcad-213fb3572417"
      },
      "source": [
        "H = model.fit_generator(\n",
        "\ttrainGen,\n",
        "\tsteps_per_epoch=totalTrain // BATCH_SIZE,\n",
        "\tvalidation_data=testGen,\n",
        "\tvalidation_steps=totalTest // BATCH_SIZE,\n",
        "\tepochs=50)"
      ],
      "execution_count": null,
      "outputs": [
        {
          "output_type": "stream",
          "text": [
            "Epoch 1/50\n",
            "7/7 [==============================] - 163s 23s/step - loss: 4.2907 - accuracy: 0.6368 - val_loss: 0.0128 - val_accuracy: 0.7969\n",
            "Epoch 2/50\n",
            "7/7 [==============================] - 29s 4s/step - loss: 1.6138 - accuracy: 0.8430 - val_loss: 2.2754 - val_accuracy: 0.8906\n",
            "Epoch 3/50\n",
            "7/7 [==============================] - 8s 1s/step - loss: 0.6669 - accuracy: 0.9462 - val_loss: 0.0294 - val_accuracy: 0.9062\n",
            "Epoch 4/50\n",
            "7/7 [==============================] - 8s 1s/step - loss: 0.7578 - accuracy: 0.9241 - val_loss: 0.0045 - val_accuracy: 0.9531\n",
            "Epoch 5/50\n",
            "7/7 [==============================] - 8s 1s/step - loss: 0.3730 - accuracy: 0.9686 - val_loss: 0.2618 - val_accuracy: 0.9375\n",
            "Epoch 6/50\n",
            "7/7 [==============================] - 8s 1s/step - loss: 0.2762 - accuracy: 0.9821 - val_loss: 0.8085 - val_accuracy: 0.9375\n",
            "Epoch 7/50\n",
            "7/7 [==============================] - 8s 1s/step - loss: 0.4412 - accuracy: 0.9596 - val_loss: 0.3689 - val_accuracy: 0.9375\n",
            "Epoch 8/50\n",
            "7/7 [==============================] - 8s 1s/step - loss: 0.4512 - accuracy: 0.9686 - val_loss: 3.1797e-06 - val_accuracy: 0.9531\n",
            "Epoch 9/50\n",
            "7/7 [==============================] - 8s 1s/step - loss: 0.2788 - accuracy: 0.9821 - val_loss: 8.1972e-04 - val_accuracy: 0.9531\n",
            "Epoch 10/50\n",
            "7/7 [==============================] - 8s 1s/step - loss: 0.3986 - accuracy: 0.9643 - val_loss: 0.2581 - val_accuracy: 0.9375\n",
            "Epoch 11/50\n",
            "7/7 [==============================] - 8s 1s/step - loss: 0.4296 - accuracy: 0.9640 - val_loss: 0.3572 - val_accuracy: 0.9375\n",
            "Epoch 12/50\n",
            "7/7 [==============================] - 7s 1s/step - loss: 0.1559 - accuracy: 0.9776 - val_loss: 0.1518 - val_accuracy: 0.9531\n",
            "Epoch 13/50\n",
            "7/7 [==============================] - 8s 1s/step - loss: 0.3403 - accuracy: 0.9732 - val_loss: 1.4844e-04 - val_accuracy: 0.9688\n",
            "Epoch 14/50\n",
            "7/7 [==============================] - 8s 1s/step - loss: 0.0735 - accuracy: 0.9910 - val_loss: 4.4878e-05 - val_accuracy: 0.9531\n",
            "Epoch 15/50\n",
            "7/7 [==============================] - 8s 1s/step - loss: 0.2029 - accuracy: 0.9821 - val_loss: 6.6337e-05 - val_accuracy: 0.9688\n",
            "Epoch 16/50\n",
            "7/7 [==============================] - 7s 1s/step - loss: 0.2570 - accuracy: 0.9776 - val_loss: 3.5375e-05 - val_accuracy: 0.9531\n",
            "Epoch 17/50\n",
            "7/7 [==============================] - 8s 1s/step - loss: 0.4091 - accuracy: 0.9686 - val_loss: 9.3132e-10 - val_accuracy: 0.9531\n",
            "Epoch 18/50\n",
            "7/7 [==============================] - 8s 1s/step - loss: 0.1554 - accuracy: 0.9821 - val_loss: 0.0000e+00 - val_accuracy: 0.9219\n",
            "Epoch 19/50\n",
            "7/7 [==============================] - 8s 1s/step - loss: 0.2942 - accuracy: 0.9731 - val_loss: 1.0180e-06 - val_accuracy: 0.9531\n",
            "Epoch 20/50\n",
            "7/7 [==============================] - 8s 1s/step - loss: 0.1450 - accuracy: 0.9865 - val_loss: 0.8091 - val_accuracy: 0.9219\n",
            "Epoch 21/50\n",
            "7/7 [==============================] - 8s 1s/step - loss: 0.1001 - accuracy: 0.9865 - val_loss: 0.3773 - val_accuracy: 0.9531\n",
            "Epoch 22/50\n",
            "7/7 [==============================] - 8s 1s/step - loss: 0.3706 - accuracy: 0.9641 - val_loss: 0.2985 - val_accuracy: 0.9531\n",
            "Epoch 23/50\n",
            "7/7 [==============================] - 8s 1s/step - loss: 0.1865 - accuracy: 0.9866 - val_loss: 0.3164 - val_accuracy: 0.9531\n",
            "Epoch 24/50\n",
            "7/7 [==============================] - 8s 1s/step - loss: 0.1854 - accuracy: 0.9776 - val_loss: 0.1114 - val_accuracy: 0.9375\n",
            "Epoch 25/50\n",
            "7/7 [==============================] - 8s 1s/step - loss: 0.1686 - accuracy: 0.9865 - val_loss: 0.4793 - val_accuracy: 0.9531\n",
            "Epoch 26/50\n",
            "7/7 [==============================] - 7s 1s/step - loss: 0.2219 - accuracy: 0.9732 - val_loss: 0.2501 - val_accuracy: 0.9531\n",
            "Epoch 27/50\n",
            "7/7 [==============================] - 8s 1s/step - loss: 0.1518 - accuracy: 0.9821 - val_loss: 0.0099 - val_accuracy: 0.9531\n",
            "Epoch 28/50\n",
            "7/7 [==============================] - 7s 1s/step - loss: 0.3575 - accuracy: 0.9686 - val_loss: 1.6313e-04 - val_accuracy: 0.9531\n",
            "Epoch 29/50\n",
            "7/7 [==============================] - 8s 1s/step - loss: 0.1280 - accuracy: 0.9865 - val_loss: 0.4793 - val_accuracy: 0.9531\n",
            "Epoch 30/50\n",
            "7/7 [==============================] - 8s 1s/step - loss: 0.1495 - accuracy: 0.9866 - val_loss: 0.8423 - val_accuracy: 0.9219\n",
            "Epoch 31/50\n",
            "7/7 [==============================] - 8s 1s/step - loss: 0.3155 - accuracy: 0.9731 - val_loss: 0.4804 - val_accuracy: 0.9531\n",
            "Epoch 32/50\n",
            "7/7 [==============================] - 8s 1s/step - loss: 0.3947 - accuracy: 0.9641 - val_loss: 0.4120 - val_accuracy: 0.9531\n",
            "Epoch 33/50\n",
            "7/7 [==============================] - 8s 1s/step - loss: 0.2158 - accuracy: 0.9777 - val_loss: 0.4258 - val_accuracy: 0.9531\n",
            "Epoch 34/50\n",
            "7/7 [==============================] - 8s 1s/step - loss: 0.1151 - accuracy: 0.9820 - val_loss: 0.4627 - val_accuracy: 0.9531\n",
            "Epoch 35/50\n",
            "7/7 [==============================] - 8s 1s/step - loss: 0.0379 - accuracy: 0.9911 - val_loss: 0.3865 - val_accuracy: 0.9531\n",
            "Epoch 36/50\n",
            "7/7 [==============================] - 8s 1s/step - loss: 0.1834 - accuracy: 0.9820 - val_loss: 0.2815 - val_accuracy: 0.9531\n",
            "Epoch 37/50\n",
            "7/7 [==============================] - 8s 1s/step - loss: 0.2299 - accuracy: 0.9776 - val_loss: 0.0011 - val_accuracy: 0.9531\n",
            "Epoch 38/50\n",
            "7/7 [==============================] - 8s 1s/step - loss: 0.0748 - accuracy: 0.9866 - val_loss: 0.0406 - val_accuracy: 0.9531\n",
            "Epoch 39/50\n",
            "7/7 [==============================] - 8s 1s/step - loss: 0.0030 - accuracy: 1.0000 - val_loss: 0.4083 - val_accuracy: 0.9531\n",
            "Epoch 40/50\n",
            "7/7 [==============================] - 8s 1s/step - loss: 0.2344 - accuracy: 0.9821 - val_loss: 0.3505 - val_accuracy: 0.9531\n",
            "Epoch 41/50\n",
            "7/7 [==============================] - 8s 1s/step - loss: 0.1212 - accuracy: 0.9910 - val_loss: 0.2666 - val_accuracy: 0.9531\n",
            "Epoch 42/50\n",
            "7/7 [==============================] - 8s 1s/step - loss: 0.1355 - accuracy: 0.9910 - val_loss: 0.1610 - val_accuracy: 0.9531\n",
            "Epoch 43/50\n",
            "7/7 [==============================] - 8s 1s/step - loss: 0.1408 - accuracy: 0.9866 - val_loss: 0.0030 - val_accuracy: 0.9688\n",
            "Epoch 44/50\n",
            "7/7 [==============================] - 8s 1s/step - loss: 8.2470e-07 - accuracy: 1.0000 - val_loss: 0.0000e+00 - val_accuracy: 0.9531\n",
            "Epoch 45/50\n",
            "7/7 [==============================] - 8s 1s/step - loss: 0.1223 - accuracy: 0.9865 - val_loss: 3.8184e-08 - val_accuracy: 0.9531\n",
            "Epoch 46/50\n",
            "7/7 [==============================] - 8s 1s/step - loss: 0.1149 - accuracy: 0.9910 - val_loss: 3.9488e-07 - val_accuracy: 0.9688\n",
            "Epoch 47/50\n",
            "7/7 [==============================] - 8s 1s/step - loss: 4.7897e-04 - accuracy: 1.0000 - val_loss: 1.5367e-07 - val_accuracy: 0.9531\n",
            "Epoch 48/50\n",
            "7/7 [==============================] - 8s 1s/step - loss: 0.1087 - accuracy: 0.9821 - val_loss: 6.0797e-05 - val_accuracy: 0.9688\n",
            "Epoch 49/50\n",
            "7/7 [==============================] - 8s 1s/step - loss: 0.0572 - accuracy: 0.9910 - val_loss: 0.0245 - val_accuracy: 0.9531\n",
            "Epoch 50/50\n",
            "7/7 [==============================] - 8s 1s/step - loss: 5.5474e-05 - accuracy: 1.0000 - val_loss: 0.0520 - val_accuracy: 0.9531\n"
          ],
          "name": "stdout"
        }
      ]
    },
    {
      "cell_type": "code",
      "metadata": {
        "id": "n6ZZESQX6lAg",
        "colab": {
          "base_uri": "https://localhost:8080/",
          "height": 316
        },
        "outputId": "ec29ce19-4966-40e9-bfe0-9a9785403a90"
      },
      "source": [
        "print(\"[INFO] evaluating after fine-tuning network head...\")\n",
        "testGen.reset()\n",
        "predIdxs = model.predict_generator(testGen,\n",
        "\tsteps=(totalTest // BATCH_SIZE))\n",
        "predIdxs = np.argmax(predIdxs, axis=1)\n",
        "print(classification_report(testGen.classes, predIdxs,\n",
        "\ttarget_names=testGen.class_indices.keys()))\n",
        "plot_training(H, 50)"
      ],
      "execution_count": null,
      "outputs": [
        {
          "output_type": "stream",
          "text": [
            "[INFO] evaluating after fine-tuning network head...\n"
          ],
          "name": "stdout"
        },
        {
          "output_type": "display_data",
          "data": {
            "image/png": "[encoded data removed]",
            "text/plain": [
              "<Figure size 432x288 with 1 Axes>"
            ]
          },
          "metadata": {
            "tags": []
          }
        }
      ]
    },
    {
      "cell_type": "code",
      "metadata": {
        "id": "eb-ANsT26lDT",
        "colab": {
          "base_uri": "https://localhost:8080/",
          "height": 347
        },
        "outputId": "97cb8bc7-cd13-4e28-bb5f-7db99a49d4cf"
      },
      "source": [
        "# reset our data generators\n",
        "trainGen.reset()\n",
        "testGen.reset()\n",
        "# now that the head FC layers have been trained/initialized, lets\n",
        "# unfreeze the final set of CONV layers and make them trainable\n",
        "for layer in baseModel.layers[15:]:\n",
        "\tlayer.trainable = True\n",
        "# loop over the layers in the model and show which ones are trainable\n",
        "# or not\n",
        "for layer in baseModel.layers:\n",
        "\tprint(\"{}: {}\".format(layer, layer.trainable))"
      ],
      "execution_count": null,
      "outputs": [
        {
          "output_type": "stream",
          "text": [
            "<keras.engine.input_layer.InputLayer object at 0x7fefb01740b8>: False\n",
            "<keras.layers.convolutional.Conv2D object at 0x7fefb0174128>: False\n",
            "<keras.layers.convolutional.Conv2D object at 0x7fefb0174390>: False\n",
            "<keras.layers.pooling.MaxPooling2D object at 0x7fefb01748d0>: False\n",
            "<keras.layers.convolutional.Conv2D object at 0x7fefb0174710>: False\n",
            "<keras.layers.convolutional.Conv2D object at 0x7fefb0176400>: False\n",
            "<keras.layers.pooling.MaxPooling2D object at 0x7fefb0176dd8>: False\n",
            "<keras.layers.convolutional.Conv2D object at 0x7fefb0176da0>: False\n",
            "<keras.layers.convolutional.Conv2D object at 0x7fefb017eb00>: False\n",
            "<keras.layers.convolutional.Conv2D object at 0x7fefb01856a0>: False\n",
            "<keras.layers.pooling.MaxPooling2D object at 0x7fefb0185eb8>: False\n",
            "<keras.layers.convolutional.Conv2D object at 0x7fefb0185fd0>: False\n",
            "<keras.layers.convolutional.Conv2D object at 0x7fefb010dc50>: False\n",
            "<keras.layers.convolutional.Conv2D object at 0x7fefb01167f0>: False\n",
            "<keras.layers.pooling.MaxPooling2D object at 0x7fefb011f278>: False\n",
            "<keras.layers.convolutional.Conv2D object at 0x7fefb011f0b8>: True\n",
            "<keras.layers.convolutional.Conv2D object at 0x7fefb011fda0>: True\n",
            "<keras.layers.convolutional.Conv2D object at 0x7fefb0125940>: True\n",
            "<keras.layers.pooling.MaxPooling2D object at 0x7fefb012d3c8>: True\n"
          ],
          "name": "stdout"
        }
      ]
    },
    {
      "cell_type": "code",
      "metadata": {
        "id": "ySyy4d2w_DLS",
        "colab": {
          "base_uri": "https://localhost:8080/",
          "height": 729
        },
        "outputId": "b2e165d1-9083-41cd-92e8-6c41998db505"
      },
      "source": [
        "print(\"[INFO] re-compiling model...\")\n",
        "opt = SGD(lr=1e-4, momentum=0.9)\n",
        "model.compile(loss=\"binary_crossentropy\", optimizer=opt,\n",
        "\tmetrics=[\"accuracy\"])\n",
        "# train the model again, this time fine-tuning *both* the final set\n",
        "# of CONV layers along with our set of FC layers\n",
        "H = model.fit_generator(\n",
        "\ttrainGen,\n",
        "\tsteps_per_epoch=totalTrain // BATCH_SIZE,\n",
        "\tvalidation_data=testGen,\n",
        "\tvalidation_steps=totalTest // BATCH_SIZE,\n",
        "\tepochs=20)"
      ],
      "execution_count": null,
      "outputs": [
        {
          "output_type": "stream",
          "text": [
            "[INFO] re-compiling model...\n",
            "Epoch 1/20\n",
            "7/7 [==============================] - 8s 1s/step - loss: 1.6667e-07 - accuracy: 1.0000 - val_loss: 0.0520 - val_accuracy: 0.9531\n",
            "Epoch 2/20\n",
            "7/7 [==============================] - 8s 1s/step - loss: 0.2298 - accuracy: 0.9731 - val_loss: 0.4783 - val_accuracy: 0.9531\n",
            "Epoch 3/20\n",
            "7/7 [==============================] - 8s 1s/step - loss: 0.0696 - accuracy: 0.9955 - val_loss: 0.4665 - val_accuracy: 0.9531\n",
            "Epoch 4/20\n",
            "7/7 [==============================] - 8s 1s/step - loss: 0.2801 - accuracy: 0.9775 - val_loss: 0.0000e+00 - val_accuracy: 0.9375\n",
            "Epoch 5/20\n",
            "7/7 [==============================] - 8s 1s/step - loss: 0.4322 - accuracy: 0.9596 - val_loss: 1.2964e-06 - val_accuracy: 0.9688\n",
            "Epoch 6/20\n",
            "7/7 [==============================] - 8s 1s/step - loss: 1.2569 - accuracy: 0.9107 - val_loss: 0.0000e+00 - val_accuracy: 0.9531\n",
            "Epoch 7/20\n",
            "7/7 [==============================] - 8s 1s/step - loss: 0.3594 - accuracy: 0.9685 - val_loss: 2.3964 - val_accuracy: 0.9219\n",
            "Epoch 8/20\n",
            "7/7 [==============================] - 8s 1s/step - loss: 0.1954 - accuracy: 0.9866 - val_loss: 0.2824 - val_accuracy: 0.9531\n",
            "Epoch 9/20\n",
            "7/7 [==============================] - 8s 1s/step - loss: 0.1790 - accuracy: 0.9821 - val_loss: 0.4793 - val_accuracy: 0.9531\n",
            "Epoch 10/20\n",
            "7/7 [==============================] - 8s 1s/step - loss: 0.1417 - accuracy: 0.9776 - val_loss: 0.4793 - val_accuracy: 0.9531\n",
            "Epoch 11/20\n",
            "7/7 [==============================] - 8s 1s/step - loss: 0.1327 - accuracy: 0.9911 - val_loss: 8.6521e-07 - val_accuracy: 0.9531\n",
            "Epoch 12/20\n",
            "7/7 [==============================] - 8s 1s/step - loss: 0.0634 - accuracy: 0.9910 - val_loss: 0.7645 - val_accuracy: 0.9375\n",
            "Epoch 13/20\n",
            "7/7 [==============================] - 8s 1s/step - loss: 0.2076 - accuracy: 0.9821 - val_loss: 1.2340e-04 - val_accuracy: 0.9688\n",
            "Epoch 14/20\n",
            "7/7 [==============================] - 8s 1s/step - loss: 0.0350 - accuracy: 0.9955 - val_loss: 0.0000e+00 - val_accuracy: 0.9688\n",
            "Epoch 15/20\n",
            "7/7 [==============================] - 8s 1s/step - loss: 0.2061 - accuracy: 0.9865 - val_loss: 0.0000e+00 - val_accuracy: 0.9219\n",
            "Epoch 16/20\n",
            "7/7 [==============================] - 8s 1s/step - loss: 0.5867 - accuracy: 0.9596 - val_loss: 0.0000e+00 - val_accuracy: 0.9531\n",
            "Epoch 17/20\n",
            "7/7 [==============================] - 8s 1s/step - loss: 0.0220 - accuracy: 0.9955 - val_loss: 0.2401 - val_accuracy: 0.9531\n",
            "Epoch 18/20\n",
            "7/7 [==============================] - 8s 1s/step - loss: 0.1856 - accuracy: 0.9820 - val_loss: 0.0904 - val_accuracy: 0.9531\n",
            "Epoch 19/20\n",
            "7/7 [==============================] - 8s 1s/step - loss: 0.0202 - accuracy: 0.9955 - val_loss: 6.0536e-08 - val_accuracy: 0.9688\n",
            "Epoch 20/20\n",
            "7/7 [==============================] - 8s 1s/step - loss: 1.8129e-06 - accuracy: 1.0000 - val_loss: 0.4508 - val_accuracy: 0.9375\n"
          ],
          "name": "stdout"
        }
      ]
    },
    {
      "cell_type": "code",
      "metadata": {
        "id": "2Q4u50ofc1-O",
        "colab": {
          "base_uri": "https://localhost:8080/",
          "height": 69
        },
        "outputId": "f9188ce7-7065-4156-ed1a-0c18323eb261"
      },
      "source": [
        "print(testGen.classes.shape)\n",
        "print(testGen.class_indices.keys())\n",
        "predIdxs.shape\n"
      ],
      "execution_count": null,
      "outputs": [
        {
          "output_type": "stream",
          "text": [
            "(64,)\n",
            "dict_keys(['negative', 'positive'])\n"
          ],
          "name": "stdout"
        },
        {
          "output_type": "execute_result",
          "data": {
            "text/plain": [
              "(96,)"
            ]
          },
          "metadata": {
            "tags": []
          },
          "execution_count": 34
        }
      ]
    },
    {
      "cell_type": "code",
      "metadata": {
        "id": "WB1MDtQL_DQf",
        "colab": {
          "base_uri": "https://localhost:8080/",
          "height": 473
        },
        "outputId": "31de9f6c-da58-4f50-91b8-0863ef602f43"
      },
      "source": [
        "print(\"[INFO] evaluating after fine-tuning network...\")\n",
        "testGen.reset()\n",
        "predIdxs = model.predict_generator(testGen,\n",
        "\tsteps=(totalTest // BATCH_SIZE))\n",
        "predIdxs = np.argmax(predIdxs, axis=1)\n",
        "print(classification_report(testGen.classes, predIdxs,\n",
        "\ttarget_names=testGen.class_indices.keys()))\n",
        "plot_training(H, 20)"
      ],
      "execution_count": null,
      "outputs": [
        {
          "output_type": "stream",
          "text": [
            "[INFO] evaluating after fine-tuning network...\n",
            "              precision    recall  f1-score   support\n",
            "\n",
            "    negative       0.94      0.94      0.94        32\n",
            "    positive       0.94      0.94      0.94        32\n",
            "\n",
            "    accuracy                           0.94        64\n",
            "   macro avg       0.94      0.94      0.94        64\n",
            "weighted avg       0.94      0.94      0.94        64\n",
            "\n"
          ],
          "name": "stdout"
        },
        {
          "output_type": "display_data",
          "data": {
            "image/png": "[encoded data removed]",
            "text/plain": [
              "<Figure size 432x288 with 1 Axes>"
            ]
          },
          "metadata": {
            "tags": []
          }
        }
      ]
    },
    {
      "cell_type": "code",
      "metadata": {
        "id": "6O2oJZXcbQNX"
      },
      "source": [
        ""
      ],
      "execution_count": null,
      "outputs": []
    }
  ]
}