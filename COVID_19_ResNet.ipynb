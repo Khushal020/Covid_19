{
  "nbformat": 4,
  "nbformat_minor": 0,
  "metadata": {
    "colab": {
      "name": "COVID-19-ResNet",
      "provenance": []
    },
    "kernelspec": {
      "name": "python3",
      "display_name": "Python 3"
    }
  },
  "cells": [
    {
      "cell_type": "code",
      "metadata": {
        "id": "xfiE9wMbAO6_",
        "colab": {
          "base_uri": "https://localhost:8080/",
          "height": 34
        },
        "outputId": "05c17504-0f49-49ff-93ae-96bc11b0a8e0"
      },
      "source": [
        "import matplotlib\n",
        "matplotlib.use(\"Agg\")\n",
        "from keras.preprocessing.image import ImageDataGenerator\n",
        "from keras.applications import VGG16\n",
        "from keras.applications import ResNet152V2\n",
        "from keras.layers.core import Dropout\n",
        "from keras.layers.core import Flatten\n",
        "from keras.layers.core import Dense\n",
        "from keras.layers import Input\n",
        "from keras.models import Model\n",
        "from keras.optimizers import SGD\n",
        "from sklearn.metrics import classification_report\n",
        "from imutils import paths\n",
        "import matplotlib.pyplot as plt\n",
        "import numpy as np\n",
        "import pickle\n",
        "import os"
      ],
      "execution_count": null,
      "outputs": [
        {
          "output_type": "stream",
          "text": [
            "Using TensorFlow backend.\n"
          ],
          "name": "stderr"
        }
      ]
    },
    {
      "cell_type": "code",
      "metadata": {
        "id": "m8y6v1pgAf6C"
      },
      "source": [
        "def plot_training(H, N):\n",
        "\t# construct a plot that plots and saves the training history\n",
        "\tplt.style.use(\"ggplot\")\n",
        "\tplt.figure()\n",
        "\tplt.plot(np.arange(0, N), H.history[\"loss\"], label=\"train_loss\")\n",
        "\tplt.plot(np.arange(0, N), H.history[\"val_loss\"], label=\"val_loss\")\n",
        "\tplt.plot(np.arange(0, N), H.history[\"accuracy\"], label=\"train_acc\")\n",
        "\tplt.plot(np.arange(0, N), H.history[\"val_accuracy\"], label=\"val_acc\")\n",
        "\tplt.title(\"Training Loss and Accuracy\")\n",
        "\tplt.xlabel(\"Epoch #\")\n",
        "\tplt.ylabel(\"Loss/Accuracy\")\n",
        "\tplt.legend(loc=\"lower left\")\n",
        "\t#plt.savefig(plotPath)"
      ],
      "execution_count": null,
      "outputs": []
    },
    {
      "cell_type": "code",
      "metadata": {
        "id": "4BBmEB1iAf8t"
      },
      "source": [
        "trainPath = '/content/drive/My Drive/COVID-19/data/train'\n",
        "testPath = '/content/drive/My Drive/COVID-19/data/test'\n",
        "\n",
        "totalTrain = len(list(paths.list_images(trainPath)))\n",
        "totalTest = len(list(paths.list_images(testPath)))"
      ],
      "execution_count": null,
      "outputs": []
    },
    {
      "cell_type": "code",
      "metadata": {
        "id": "se8UuWtrWZw4",
        "colab": {
          "base_uri": "https://localhost:8080/",
          "height": 52
        },
        "outputId": "11a77e0a-3e62-4013-aa66-21d4aa89d9a1"
      },
      "source": [
        "print(totalTrain)\n",
        "print(totalTest)"
      ],
      "execution_count": null,
      "outputs": [
        {
          "output_type": "stream",
          "text": [
            "255\n",
            "64\n"
          ],
          "name": "stdout"
        }
      ]
    },
    {
      "cell_type": "code",
      "metadata": {
        "id": "g3z_ujfAAgD5"
      },
      "source": [
        "trainAug = ImageDataGenerator(\n",
        "\tzoom_range=0.15,\n",
        "\twidth_shift_range=0.2,\n",
        "\theight_shift_range=0.2,\n",
        "\tshear_range=0.15,\n",
        "\thorizontal_flip=True,\n",
        "\tfill_mode=\"nearest\")\n",
        "\n",
        "testAug = ImageDataGenerator()"
      ],
      "execution_count": null,
      "outputs": []
    },
    {
      "cell_type": "code",
      "metadata": {
        "id": "kwhDW-y5AgJA",
        "colab": {
          "base_uri": "https://localhost:8080/",
          "height": 52
        },
        "outputId": "e8ff8f23-1195-470c-da3a-1e9c01d5629b"
      },
      "source": [
        "BATCH_SIZE = 32\n",
        "trainGen = trainAug.flow_from_directory(\n",
        "\ttrainPath,\n",
        "\tclass_mode=\"categorical\",\n",
        "\ttarget_size=(224, 224),\n",
        "\tcolor_mode=\"rgb\",\n",
        "\tshuffle=True,\n",
        "\tbatch_size=BATCH_SIZE)\n",
        "\n",
        "testGen = testAug.flow_from_directory(\n",
        "\ttestPath,\n",
        "\tclass_mode=\"categorical\",\n",
        "\ttarget_size=(224, 224),\n",
        "\tcolor_mode=\"rgb\",\n",
        "\tshuffle=False,\n",
        "\tbatch_size=BATCH_SIZE)"
      ],
      "execution_count": null,
      "outputs": [
        {
          "output_type": "stream",
          "text": [
            "Found 255 images belonging to 2 classes.\n",
            "Found 64 images belonging to 2 classes.\n"
          ],
          "name": "stdout"
        }
      ]
    },
    {
      "cell_type": "code",
      "metadata": {
        "id": "kvgi6gbDAZUQ",
        "colab": {
          "base_uri": "https://localhost:8080/",
          "height": 52
        },
        "outputId": "bc0bcd3c-0bfd-423e-cf43-0920cd3c39d0"
      },
      "source": [
        "baseModel = ResNet152V2(weights=\"imagenet\", include_top=False,\n",
        "\tinput_tensor=Input(shape=(224, 224, 3)))\n",
        "\n",
        "\n",
        "headModel = baseModel.output\n",
        "headModel = Flatten(name=\"flatten\")(headModel)\n",
        "headModel = Dense(512, activation=\"relu\")(headModel)\n",
        "headModel = Dropout(0.5)(headModel)\n",
        "headModel = Dense(2, activation=\"softmax\")(headModel)\n",
        "\n",
        "model = Model(inputs=baseModel.input, outputs=headModel)"
      ],
      "execution_count": null,
      "outputs": [
        {
          "output_type": "stream",
          "text": [
            "Downloading data from https://github.com/keras-team/keras-applications/releases/download/resnet/resnet152v2_weights_tf_dim_ordering_tf_kernels_notop.h5\n",
            "234553344/234545216 [==============================] - 4s 0us/step\n"
          ],
          "name": "stdout"
        }
      ]
    },
    {
      "cell_type": "code",
      "metadata": {
        "id": "H4J8nOtOWpfi"
      },
      "source": [
        "for layer in baseModel.layers:\n",
        "\tlayer.trainable = False"
      ],
      "execution_count": null,
      "outputs": []
    },
    {
      "cell_type": "code",
      "metadata": {
        "id": "_4oUxlCYWtWV"
      },
      "source": [
        "opt = SGD(lr=1e-4, momentum=0.9)\n",
        "model.compile(loss=\"binary_crossentropy\", optimizer=opt,\n",
        "\tmetrics=[\"accuracy\"])"
      ],
      "execution_count": null,
      "outputs": []
    },
    {
      "cell_type": "code",
      "metadata": {
        "id": "aResICvnWvXp",
        "colab": {
          "base_uri": "https://localhost:8080/",
          "height": 1000
        },
        "outputId": "2dfe2229-1f90-43a7-82b5-c387ff883724"
      },
      "source": [
        "H = model.fit_generator(\n",
        "\ttrainGen,\n",
        "\tsteps_per_epoch=totalTrain // BATCH_SIZE,\n",
        "\tvalidation_data=testGen,\n",
        "\tvalidation_steps=totalTest // BATCH_SIZE,\n",
        "\tepochs=50)"
      ],
      "execution_count": null,
      "outputs": [
        {
          "output_type": "stream",
          "text": [
            "Epoch 1/50\n",
            "7/7 [==============================] - 174s 25s/step - loss: 1.3478 - accuracy: 0.5381 - val_loss: 6.7100 - val_accuracy: 0.6250\n",
            "Epoch 2/50\n",
            "7/7 [==============================] - 141s 20s/step - loss: 0.5983 - accuracy: 0.7399 - val_loss: 0.0000e+00 - val_accuracy: 0.5000\n",
            "Epoch 3/50\n",
            "7/7 [==============================] - 139s 20s/step - loss: 0.2795 - accuracy: 0.8879 - val_loss: 0.0000e+00 - val_accuracy: 0.5000\n",
            "Epoch 4/50\n",
            "7/7 [==============================] - 142s 20s/step - loss: 0.2079 - accuracy: 0.9152 - val_loss: 0.9586 - val_accuracy: 0.4844\n",
            "Epoch 5/50\n",
            "7/7 [==============================] - 139s 20s/step - loss: 0.2909 - accuracy: 0.9193 - val_loss: 0.0000e+00 - val_accuracy: 0.5000\n",
            "Epoch 6/50\n",
            "7/7 [==============================] - 139s 20s/step - loss: 0.1270 - accuracy: 0.9686 - val_loss: 0.0000e+00 - val_accuracy: 0.5000\n",
            "Epoch 7/50\n",
            "7/7 [==============================] - 139s 20s/step - loss: 0.1312 - accuracy: 0.9507 - val_loss: 0.0000e+00 - val_accuracy: 0.5000\n",
            "Epoch 8/50\n",
            "7/7 [==============================] - 142s 20s/step - loss: 0.1320 - accuracy: 0.9417 - val_loss: 0.0000e+00 - val_accuracy: 0.5000\n",
            "Epoch 9/50\n",
            "7/7 [==============================] - 132s 19s/step - loss: 0.1082 - accuracy: 0.9507 - val_loss: 0.0000e+00 - val_accuracy: 0.5000\n",
            "Epoch 10/50\n",
            "7/7 [==============================] - 139s 20s/step - loss: 0.1549 - accuracy: 0.9596 - val_loss: 0.0000e+00 - val_accuracy: 0.5000\n",
            "Epoch 11/50\n",
            "7/7 [==============================] - 140s 20s/step - loss: 0.1053 - accuracy: 0.9509 - val_loss: 0.0000e+00 - val_accuracy: 0.5000\n",
            "Epoch 12/50\n",
            "7/7 [==============================] - 139s 20s/step - loss: 0.1037 - accuracy: 0.9685 - val_loss: 0.0000e+00 - val_accuracy: 0.5000\n",
            "Epoch 13/50\n",
            "7/7 [==============================] - 142s 20s/step - loss: 0.0351 - accuracy: 0.9911 - val_loss: 0.0000e+00 - val_accuracy: 0.5000\n",
            "Epoch 14/50\n",
            "7/7 [==============================] - 139s 20s/step - loss: 0.1043 - accuracy: 0.9686 - val_loss: 0.0000e+00 - val_accuracy: 0.5000\n",
            "Epoch 15/50\n",
            "7/7 [==============================] - 139s 20s/step - loss: 0.0594 - accuracy: 0.9731 - val_loss: 0.0000e+00 - val_accuracy: 0.5000\n",
            "Epoch 16/50\n",
            "7/7 [==============================] - 139s 20s/step - loss: 0.0374 - accuracy: 0.9776 - val_loss: 0.0000e+00 - val_accuracy: 0.5000\n",
            "Epoch 17/50\n",
            "7/7 [==============================] - 135s 19s/step - loss: 0.0976 - accuracy: 0.9731 - val_loss: 0.0000e+00 - val_accuracy: 0.5000\n",
            "Epoch 18/50\n",
            "7/7 [==============================] - 140s 20s/step - loss: 0.0691 - accuracy: 0.9731 - val_loss: 0.0000e+00 - val_accuracy: 0.5000\n",
            "Epoch 19/50\n",
            "7/7 [==============================] - 140s 20s/step - loss: 0.0588 - accuracy: 0.9777 - val_loss: 0.0000e+00 - val_accuracy: 0.5000\n",
            "Epoch 20/50\n",
            "7/7 [==============================] - 139s 20s/step - loss: 0.0680 - accuracy: 0.9731 - val_loss: 0.0000e+00 - val_accuracy: 0.5000\n",
            "Epoch 21/50\n",
            "7/7 [==============================] - 141s 20s/step - loss: 0.1166 - accuracy: 0.9552 - val_loss: 0.0000e+00 - val_accuracy: 0.5000\n",
            "Epoch 22/50\n",
            "7/7 [==============================] - 140s 20s/step - loss: 0.0455 - accuracy: 0.9821 - val_loss: 0.0000e+00 - val_accuracy: 0.5000\n",
            "Epoch 23/50\n",
            "7/7 [==============================] - 139s 20s/step - loss: 0.0325 - accuracy: 0.9865 - val_loss: 0.0000e+00 - val_accuracy: 0.5000\n",
            "Epoch 24/50\n",
            "7/7 [==============================] - 139s 20s/step - loss: 0.0584 - accuracy: 0.9821 - val_loss: 0.0000e+00 - val_accuracy: 0.5000\n",
            "Epoch 25/50\n",
            "7/7 [==============================] - 132s 19s/step - loss: 0.0325 - accuracy: 0.9910 - val_loss: 0.0000e+00 - val_accuracy: 0.5000\n",
            "Epoch 26/50\n",
            "7/7 [==============================] - 141s 20s/step - loss: 0.0462 - accuracy: 0.9865 - val_loss: 0.0000e+00 - val_accuracy: 0.5000\n",
            "Epoch 27/50\n",
            "7/7 [==============================] - 139s 20s/step - loss: 0.0426 - accuracy: 0.9821 - val_loss: 0.0000e+00 - val_accuracy: 0.5000\n",
            "Epoch 28/50\n",
            "7/7 [==============================] - 140s 20s/step - loss: 0.0589 - accuracy: 0.9731 - val_loss: 0.0000e+00 - val_accuracy: 0.5000\n",
            "Epoch 29/50\n",
            "7/7 [==============================] - 140s 20s/step - loss: 0.0462 - accuracy: 0.9776 - val_loss: 0.0000e+00 - val_accuracy: 0.5000\n",
            "Epoch 30/50\n",
            "7/7 [==============================] - 142s 20s/step - loss: 0.0247 - accuracy: 0.9865 - val_loss: 0.0000e+00 - val_accuracy: 0.5000\n",
            "Epoch 31/50\n",
            "7/7 [==============================] - 140s 20s/step - loss: 0.0324 - accuracy: 0.9866 - val_loss: 0.0000e+00 - val_accuracy: 0.5000\n",
            "Epoch 32/50\n",
            "7/7 [==============================] - 139s 20s/step - loss: 0.0484 - accuracy: 0.9776 - val_loss: 0.0000e+00 - val_accuracy: 0.5000\n",
            "Epoch 33/50\n",
            "7/7 [==============================] - 132s 19s/step - loss: 0.0113 - accuracy: 0.9955 - val_loss: 0.0000e+00 - val_accuracy: 0.5000\n",
            "Epoch 34/50\n",
            "7/7 [==============================] - 140s 20s/step - loss: 0.0462 - accuracy: 0.9821 - val_loss: 0.0000e+00 - val_accuracy: 0.5000\n",
            "Epoch 35/50\n",
            "7/7 [==============================] - 142s 20s/step - loss: 0.0257 - accuracy: 0.9865 - val_loss: 0.0000e+00 - val_accuracy: 0.5000\n",
            "Epoch 36/50\n",
            "7/7 [==============================] - 140s 20s/step - loss: 0.0473 - accuracy: 0.9730 - val_loss: 0.0000e+00 - val_accuracy: 0.5000\n",
            "Epoch 37/50\n",
            "7/7 [==============================] - 140s 20s/step - loss: 0.0427 - accuracy: 0.9866 - val_loss: 0.0000e+00 - val_accuracy: 0.5000\n",
            "Epoch 38/50\n",
            "7/7 [==============================] - 139s 20s/step - loss: 0.0614 - accuracy: 0.9910 - val_loss: 0.0000e+00 - val_accuracy: 0.5000\n",
            "Epoch 39/50\n",
            "7/7 [==============================] - 143s 20s/step - loss: 0.0678 - accuracy: 0.9910 - val_loss: 0.0000e+00 - val_accuracy: 0.5000\n",
            "Epoch 40/50\n",
            "7/7 [==============================] - 140s 20s/step - loss: 0.0340 - accuracy: 0.9865 - val_loss: 0.0000e+00 - val_accuracy: 0.5000\n",
            "Epoch 41/50\n",
            "7/7 [==============================] - 133s 19s/step - loss: 0.0354 - accuracy: 0.9910 - val_loss: 0.0000e+00 - val_accuracy: 0.5000\n",
            "Epoch 42/50\n",
            "7/7 [==============================] - 140s 20s/step - loss: 0.0579 - accuracy: 0.9776 - val_loss: 0.0000e+00 - val_accuracy: 0.5000\n",
            "Epoch 43/50\n",
            "7/7 [==============================] - 143s 20s/step - loss: 0.0348 - accuracy: 0.9866 - val_loss: 0.0000e+00 - val_accuracy: 0.5000\n",
            "Epoch 44/50\n",
            "7/7 [==============================] - 139s 20s/step - loss: 0.0244 - accuracy: 0.9910 - val_loss: 0.0000e+00 - val_accuracy: 0.5000\n",
            "Epoch 45/50\n",
            "7/7 [==============================] - 140s 20s/step - loss: 0.0649 - accuracy: 0.9821 - val_loss: 0.0000e+00 - val_accuracy: 0.5000\n",
            "Epoch 46/50\n",
            "7/7 [==============================] - 140s 20s/step - loss: 0.0249 - accuracy: 0.9911 - val_loss: 0.0000e+00 - val_accuracy: 0.5000\n",
            "Epoch 47/50\n",
            "7/7 [==============================] - 140s 20s/step - loss: 0.0245 - accuracy: 0.9910 - val_loss: 0.0000e+00 - val_accuracy: 0.5000\n",
            "Epoch 48/50\n",
            "7/7 [==============================] - 144s 21s/step - loss: 0.0217 - accuracy: 0.9955 - val_loss: 0.0000e+00 - val_accuracy: 0.5000\n",
            "Epoch 49/50\n",
            "7/7 [==============================] - 133s 19s/step - loss: 0.0249 - accuracy: 0.9911 - val_loss: 0.0000e+00 - val_accuracy: 0.5000\n",
            "Epoch 50/50\n",
            "7/7 [==============================] - 139s 20s/step - loss: 0.0109 - accuracy: 1.0000 - val_loss: 0.0000e+00 - val_accuracy: 0.5000\n"
          ],
          "name": "stdout"
        }
      ]
    },
    {
      "cell_type": "code",
      "metadata": {
        "id": "V3INjo8UXEj3",
        "colab": {
          "base_uri": "https://localhost:8080/",
          "height": 254
        },
        "outputId": "34553920-ed54-4bb9-cc1a-0582ee90cd84"
      },
      "source": [
        "print(\"[INFO] evaluating after fine-tuning network head...\")\n",
        "testGen.reset()\n",
        "predIdxs = model.predict_generator(testGen,\n",
        "\tsteps=(totalTest // config.BATCH_SIZE))\n",
        "predIdxs = np.argmax(predIdxs, axis=1)\n",
        "print(classification_report(testGen.classes, predIdxs,\n",
        "\ttarget_names=testGen.class_indices.keys()))\n",
        "plot_training(H, 50, config.WARMUP_PLOT_PATH)"
      ],
      "execution_count": null,
      "outputs": [
        {
          "output_type": "stream",
          "text": [
            "[INFO] evaluating after fine-tuning network head...\n"
          ],
          "name": "stdout"
        },
        {
          "output_type": "error",
          "ename": "NameError",
          "evalue": "ignored",
          "traceback": [
            "\u001b[0;31m---------------------------------------------------------------------------\u001b[0m",
            "\u001b[0;31mNameError\u001b[0m                                 Traceback (most recent call last)",
            "\u001b[0;32m<ipython-input-1-e9f12dad2009>\u001b[0m in \u001b[0;36m<module>\u001b[0;34m()\u001b[0m\n\u001b[1;32m      1\u001b[0m \u001b[0mprint\u001b[0m\u001b[0;34m(\u001b[0m\u001b[0;34m\"[INFO] evaluating after fine-tuning network head...\"\u001b[0m\u001b[0;34m)\u001b[0m\u001b[0;34m\u001b[0m\u001b[0;34m\u001b[0m\u001b[0m\n\u001b[0;32m----> 2\u001b[0;31m \u001b[0mtestGen\u001b[0m\u001b[0;34m.\u001b[0m\u001b[0mreset\u001b[0m\u001b[0;34m(\u001b[0m\u001b[0;34m)\u001b[0m\u001b[0;34m\u001b[0m\u001b[0;34m\u001b[0m\u001b[0m\n\u001b[0m\u001b[1;32m      3\u001b[0m predIdxs = model.predict_generator(testGen,\n\u001b[1;32m      4\u001b[0m \tsteps=(totalTest // config.BATCH_SIZE))\n\u001b[1;32m      5\u001b[0m \u001b[0mpredIdxs\u001b[0m \u001b[0;34m=\u001b[0m \u001b[0mnp\u001b[0m\u001b[0;34m.\u001b[0m\u001b[0margmax\u001b[0m\u001b[0;34m(\u001b[0m\u001b[0mpredIdxs\u001b[0m\u001b[0;34m,\u001b[0m \u001b[0maxis\u001b[0m\u001b[0;34m=\u001b[0m\u001b[0;36m1\u001b[0m\u001b[0;34m)\u001b[0m\u001b[0;34m\u001b[0m\u001b[0;34m\u001b[0m\u001b[0m\n",
            "\u001b[0;31mNameError\u001b[0m: name 'testGen' is not defined"
          ]
        }
      ]
    },
    {
      "cell_type": "code",
      "metadata": {
        "id": "DU8pekziXJK0"
      },
      "source": [
        "# reset our data generators\n",
        "trainGen.reset()\n",
        "testGen.reset()\n",
        "# now that the head FC layers have been trained/initialized, lets\n",
        "# unfreeze the final set of CONV layers and make them trainable\n",
        "for layer in baseModel.layers[15:]:\n",
        "\tlayer.trainable = True\n",
        "# loop over the layers in the model and show which ones are trainable\n",
        "# or not\n",
        "for layer in baseModel.layers:\n",
        "\tprint(\"{}: {}\".format(layer, layer.trainable))"
      ],
      "execution_count": null,
      "outputs": []
    },
    {
      "cell_type": "code",
      "metadata": {
        "id": "Xz2Yw6wPXJhi"
      },
      "source": [
        "print(\"[INFO] re-compiling model...\")\n",
        "opt = SGD(lr=1e-4, momentum=0.9)\n",
        "model.compile(loss=\"binary_crossentropy\", optimizer=opt,\n",
        "\tmetrics=[\"accuracy\"])\n",
        "# train the model again, this time fine-tuning *both* the final set\n",
        "# of CONV layers along with our set of FC layers\n",
        "H = model.fit_generator(\n",
        "\ttrainGen,\n",
        "\tsteps_per_epoch=totalTrain // BATCH_SIZE,\n",
        "\tvalidation_data=testGen,\n",
        "\tvalidation_steps=totalTest // BATCH_SIZE,\n",
        "\tepochs=20)"
      ],
      "execution_count": null,
      "outputs": []
    },
    {
      "cell_type": "code",
      "metadata": {
        "id": "zmtrJrcRXJH6"
      },
      "source": [
        "print(\"[INFO] evaluating after fine-tuning network...\")\n",
        "testGen.reset()\n",
        "predIdxs = model.predict_generator(testGen,\n",
        "\tsteps=(totalTest // BATCH_SIZE))\n",
        "predIdxs = np.argmax(predIdxs, axis=1)\n",
        "print(classification_report(testGen.classes, predIdxs,\n",
        "\ttarget_names=testGen.class_indices.keys()))\n",
        "plot_training(H, 20)"
      ],
      "execution_count": null,
      "outputs": []
    }
  ]
}